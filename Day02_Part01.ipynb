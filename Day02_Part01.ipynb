{
 "cells": [
  {
   "cell_type": "markdown",
   "metadata": {},
   "source": [
    "# Préparation des Données - Performance des Étudiants\n",
    "\n",
    "## Objectifs\n",
    "\n",
    "Après avoir complété ce notebook, vous serez capable de :\n",
    "\n",
    "- Gérer les valeurs manquantes dans les ensembles de données\n",
    "- Corriger les formats de données\n",
    "- Standardiser et normaliser les données\n",
    "- Créer des groupes à partir de variables continues\n",
    "- Générer des variables indicatrices à partir de données catégorielles en utilisant l'encodage one-hot"
   ]
  },
  {
   "cell_type": "markdown",
   "metadata": {},
   "source": [
    "## Table des Matières\n",
    "\n",
    "1. [Importation des Données et Bibliothèques](#import-data)\n",
    "2. [Exploration des Données](#data-exploration)\n",
    "3. [Gestion des Valeurs Manquantes](#missing-values)\n",
    "4. [Correction des Formats de Données](#data-formats)\n",
    "5. [Standardisation des Données](#standardization)\n",
    "6. [Normalisation des Données](#normalization)\n",
    "7. [Discrétisation des Données](#binning)\n",
    "8. [Encodage One-Hot (Variables Indicatrices/Variables Dummy)](#indicator-variables)\n",
    "9. [Exportation des Données Nettoyées](#export-data)"
   ]
  },
  {
   "cell_type": "markdown",
   "metadata": {},
   "source": [
    "<a id=\"import-data\"></a>\n",
    "## 1. Importation des Données et Bibliothèques"
   ]
  },
  {
   "cell_type": "code",
   "execution_count": 2,
   "metadata": {},
   "outputs": [],
   "source": [
    "# Importation des bibliothèques nécessaires\n",
    "import pandas as pd\n",
    "import numpy as np\n",
    "import matplotlib.pyplot as plt\n",
    "import seaborn as sns\n",
    "\n",
    "# Configuration du style de visualisation\n",
    "sns.set_theme(style=\"whitegrid\")\n",
    "%matplotlib inline"
   ]
  },
  {
   "cell_type": "code",
   "execution_count": 3,
   "metadata": {},
   "outputs": [
    {
     "data": {
      "text/html": [
       "<div>\n",
       "<style scoped>\n",
       "    .dataframe tbody tr th:only-of-type {\n",
       "        vertical-align: middle;\n",
       "    }\n",
       "\n",
       "    .dataframe tbody tr th {\n",
       "        vertical-align: top;\n",
       "    }\n",
       "\n",
       "    .dataframe thead th {\n",
       "        text-align: right;\n",
       "    }\n",
       "</style>\n",
       "<table border=\"1\" class=\"dataframe\">\n",
       "  <thead>\n",
       "    <tr style=\"text-align: right;\">\n",
       "      <th></th>\n",
       "      <th>loan_amnt</th>\n",
       "      <th>term</th>\n",
       "      <th>int_rate</th>\n",
       "      <th>installment</th>\n",
       "      <th>grade</th>\n",
       "      <th>sub_grade</th>\n",
       "      <th>emp_title</th>\n",
       "      <th>emp_length</th>\n",
       "      <th>home_ownership</th>\n",
       "      <th>annual_inc</th>\n",
       "      <th>...</th>\n",
       "      <th>earliest_cr_line</th>\n",
       "      <th>open_acc</th>\n",
       "      <th>pub_rec</th>\n",
       "      <th>revol_bal</th>\n",
       "      <th>revol_util</th>\n",
       "      <th>total_acc</th>\n",
       "      <th>initial_list_status</th>\n",
       "      <th>application_type</th>\n",
       "      <th>mort_acc</th>\n",
       "      <th>pub_rec_bankruptcies</th>\n",
       "    </tr>\n",
       "  </thead>\n",
       "  <tbody>\n",
       "    <tr>\n",
       "      <th>0</th>\n",
       "      <td>100000</td>\n",
       "      <td>36 months</td>\n",
       "      <td>1144</td>\n",
       "      <td>32948</td>\n",
       "      <td>B</td>\n",
       "      <td>B4</td>\n",
       "      <td>Marketing</td>\n",
       "      <td>10+ years</td>\n",
       "      <td>RENT</td>\n",
       "      <td>1170000</td>\n",
       "      <td>...</td>\n",
       "      <td>01-06-90</td>\n",
       "      <td>160</td>\n",
       "      <td>0</td>\n",
       "      <td>363690</td>\n",
       "      <td>418.0</td>\n",
       "      <td>250</td>\n",
       "      <td>w</td>\n",
       "      <td>INDIVIDUAL</td>\n",
       "      <td>0.0</td>\n",
       "      <td>0.0</td>\n",
       "    </tr>\n",
       "    <tr>\n",
       "      <th>1</th>\n",
       "      <td>80000</td>\n",
       "      <td>36 months</td>\n",
       "      <td>1199</td>\n",
       "      <td>26568</td>\n",
       "      <td>B</td>\n",
       "      <td>B5</td>\n",
       "      <td>Credit analyst</td>\n",
       "      <td>4 years</td>\n",
       "      <td>MORTGAGE</td>\n",
       "      <td>650000</td>\n",
       "      <td>...</td>\n",
       "      <td>01-07-04</td>\n",
       "      <td>170</td>\n",
       "      <td>0</td>\n",
       "      <td>201310</td>\n",
       "      <td>533.0</td>\n",
       "      <td>270</td>\n",
       "      <td>f</td>\n",
       "      <td>INDIVIDUAL</td>\n",
       "      <td>30.0</td>\n",
       "      <td>0.0</td>\n",
       "    </tr>\n",
       "    <tr>\n",
       "      <th>2</th>\n",
       "      <td>156000</td>\n",
       "      <td>36 months</td>\n",
       "      <td>1049</td>\n",
       "      <td>50697</td>\n",
       "      <td>B</td>\n",
       "      <td>B3</td>\n",
       "      <td>Statistician</td>\n",
       "      <td>&lt; 1 year</td>\n",
       "      <td>RENT</td>\n",
       "      <td>430570</td>\n",
       "      <td>...</td>\n",
       "      <td>01-08-07</td>\n",
       "      <td>130</td>\n",
       "      <td>0</td>\n",
       "      <td>119870</td>\n",
       "      <td>922.0</td>\n",
       "      <td>260</td>\n",
       "      <td>f</td>\n",
       "      <td>INDIVIDUAL</td>\n",
       "      <td>0.0</td>\n",
       "      <td>0.0</td>\n",
       "    </tr>\n",
       "    <tr>\n",
       "      <th>3</th>\n",
       "      <td>72000</td>\n",
       "      <td>36 months</td>\n",
       "      <td>649</td>\n",
       "      <td>22065</td>\n",
       "      <td>A</td>\n",
       "      <td>A2</td>\n",
       "      <td>Client Advocate</td>\n",
       "      <td>6 years</td>\n",
       "      <td>RENT</td>\n",
       "      <td>540000</td>\n",
       "      <td>...</td>\n",
       "      <td>01-09-06</td>\n",
       "      <td>60</td>\n",
       "      <td>0</td>\n",
       "      <td>54720</td>\n",
       "      <td>215.0</td>\n",
       "      <td>130</td>\n",
       "      <td>f</td>\n",
       "      <td>INDIVIDUAL</td>\n",
       "      <td>0.0</td>\n",
       "      <td>0.0</td>\n",
       "    </tr>\n",
       "    <tr>\n",
       "      <th>4</th>\n",
       "      <td>243750</td>\n",
       "      <td>60 months</td>\n",
       "      <td>1727</td>\n",
       "      <td>60933</td>\n",
       "      <td>C</td>\n",
       "      <td>C5</td>\n",
       "      <td>Destiny Management Inc.</td>\n",
       "      <td>9 years</td>\n",
       "      <td>MORTGAGE</td>\n",
       "      <td>550000</td>\n",
       "      <td>...</td>\n",
       "      <td>01-03-99</td>\n",
       "      <td>130</td>\n",
       "      <td>0</td>\n",
       "      <td>245840</td>\n",
       "      <td>698.0</td>\n",
       "      <td>430</td>\n",
       "      <td>f</td>\n",
       "      <td>INDIVIDUAL</td>\n",
       "      <td>10.0</td>\n",
       "      <td>0.0</td>\n",
       "    </tr>\n",
       "  </tbody>\n",
       "</table>\n",
       "<p>5 rows × 26 columns</p>\n",
       "</div>"
      ],
      "text/plain": [
       "   loan_amnt        term  int_rate  installment grade sub_grade  \\\n",
       "0     100000   36 months      1144        32948     B        B4   \n",
       "1      80000   36 months      1199        26568     B        B5   \n",
       "2     156000   36 months      1049        50697     B        B3   \n",
       "3      72000   36 months       649        22065     A        A2   \n",
       "4     243750   60 months      1727        60933     C        C5   \n",
       "\n",
       "                 emp_title emp_length home_ownership  annual_inc  ...  \\\n",
       "0                Marketing  10+ years           RENT     1170000  ...   \n",
       "1          Credit analyst     4 years       MORTGAGE      650000  ...   \n",
       "2             Statistician   < 1 year           RENT      430570  ...   \n",
       "3          Client Advocate    6 years           RENT      540000  ...   \n",
       "4  Destiny Management Inc.    9 years       MORTGAGE      550000  ...   \n",
       "\n",
       "  earliest_cr_line open_acc pub_rec revol_bal revol_util  total_acc  \\\n",
       "0         01-06-90      160       0    363690      418.0        250   \n",
       "1         01-07-04      170       0    201310      533.0        270   \n",
       "2         01-08-07      130       0    119870      922.0        260   \n",
       "3         01-09-06       60       0     54720      215.0        130   \n",
       "4         01-03-99      130       0    245840      698.0        430   \n",
       "\n",
       "  initial_list_status  application_type  mort_acc  pub_rec_bankruptcies  \n",
       "0                   w        INDIVIDUAL       0.0                   0.0  \n",
       "1                   f        INDIVIDUAL      30.0                   0.0  \n",
       "2                   f        INDIVIDUAL       0.0                   0.0  \n",
       "3                   f        INDIVIDUAL       0.0                   0.0  \n",
       "4                   f        INDIVIDUAL      10.0                   0.0  \n",
       "\n",
       "[5 rows x 26 columns]"
      ]
     },
     "execution_count": 3,
     "metadata": {},
     "output_type": "execute_result"
    }
   ],
   "source": [
    "# Lecture du jeu de données\n",
    "file_path = \"Classeur1.csv\"\n",
    "df = pd.read_csv(file_path, sep=';')\n",
    "\n",
    "# Affichage des premières lignes du jeu de données\n",
    "df.head()"
   ]
  },
  {
   "cell_type": "markdown",
   "metadata": {},
   "source": [
    "<a id=\"data-exploration\"></a>\n",
    "## 2. Exploration des Données\n",
    "\n",
    "Avant de commencer le nettoyage et la préparation de nos données, comprenons d'abord ce avec quoi nous travaillons."
   ]
  },
  {
   "cell_type": "code",
   "execution_count": 4,
   "metadata": {},
   "outputs": [
    {
     "name": "stdout",
     "output_type": "stream",
     "text": [
      "Dimensions du jeu de données: (396030, 26)\n",
      "\n",
      "Informations sur le jeu de données:\n",
      "<class 'pandas.core.frame.DataFrame'>\n",
      "RangeIndex: 396030 entries, 0 to 396029\n",
      "Data columns (total 26 columns):\n",
      " #   Column                Non-Null Count   Dtype  \n",
      "---  ------                --------------   -----  \n",
      " 0   loan_amnt             396030 non-null  int64  \n",
      " 1   term                  396030 non-null  object \n",
      " 2   int_rate              396030 non-null  int64  \n",
      " 3   installment           396030 non-null  int64  \n",
      " 4   grade                 396030 non-null  object \n",
      " 5   sub_grade             396030 non-null  object \n",
      " 6   emp_title             373103 non-null  object \n",
      " 7   emp_length            377729 non-null  object \n",
      " 8   home_ownership        396030 non-null  object \n",
      " 9   annual_inc            396030 non-null  int64  \n",
      " 10  verification_status   396030 non-null  object \n",
      " 11  issue_d               396030 non-null  object \n",
      " 12  loan_status           396030 non-null  object \n",
      " 13  purpose               396030 non-null  object \n",
      " 14  title                 394274 non-null  object \n",
      " 15  dti                   396030 non-null  int64  \n",
      " 16  earliest_cr_line      396030 non-null  object \n",
      " 17  open_acc              396030 non-null  int64  \n",
      " 18  pub_rec               396030 non-null  int64  \n",
      " 19  revol_bal             396030 non-null  int64  \n",
      " 20  revol_util            395754 non-null  float64\n",
      " 21  total_acc             396030 non-null  int64  \n",
      " 22  initial_list_status   396030 non-null  object \n",
      " 23  application_type      396030 non-null  object \n",
      " 24  mort_acc              358235 non-null  float64\n",
      " 25  pub_rec_bankruptcies  395495 non-null  float64\n",
      "dtypes: float64(3), int64(9), object(14)\n",
      "memory usage: 78.6+ MB\n"
     ]
    }
   ],
   "source": [
    "# Obtenir des informations de base sur le jeu de données\n",
    "print(\"Dimensions du jeu de données:\", df.shape)\n",
    "print(\"\\nInformations sur le jeu de données:\")\n",
    "df.info()"
   ]
  },
  {
   "cell_type": "code",
   "execution_count": 5,
   "metadata": {},
   "outputs": [
    {
     "data": {
      "text/html": [
       "<div>\n",
       "<style scoped>\n",
       "    .dataframe tbody tr th:only-of-type {\n",
       "        vertical-align: middle;\n",
       "    }\n",
       "\n",
       "    .dataframe tbody tr th {\n",
       "        vertical-align: top;\n",
       "    }\n",
       "\n",
       "    .dataframe thead th {\n",
       "        text-align: right;\n",
       "    }\n",
       "</style>\n",
       "<table border=\"1\" class=\"dataframe\">\n",
       "  <thead>\n",
       "    <tr style=\"text-align: right;\">\n",
       "      <th></th>\n",
       "      <th>loan_amnt</th>\n",
       "      <th>int_rate</th>\n",
       "      <th>installment</th>\n",
       "      <th>annual_inc</th>\n",
       "      <th>dti</th>\n",
       "      <th>open_acc</th>\n",
       "      <th>pub_rec</th>\n",
       "      <th>revol_bal</th>\n",
       "      <th>revol_util</th>\n",
       "      <th>total_acc</th>\n",
       "      <th>mort_acc</th>\n",
       "      <th>pub_rec_bankruptcies</th>\n",
       "    </tr>\n",
       "  </thead>\n",
       "  <tbody>\n",
       "    <tr>\n",
       "      <th>count</th>\n",
       "      <td>396030.000000</td>\n",
       "      <td>396030.000000</td>\n",
       "      <td>396030.000000</td>\n",
       "      <td>3.960300e+05</td>\n",
       "      <td>396030.000000</td>\n",
       "      <td>396030.000000</td>\n",
       "      <td>396030.000000</td>\n",
       "      <td>3.960300e+05</td>\n",
       "      <td>395754.000000</td>\n",
       "      <td>396030.000000</td>\n",
       "      <td>358235.000000</td>\n",
       "      <td>395495.000000</td>\n",
       "    </tr>\n",
       "    <tr>\n",
       "      <th>mean</th>\n",
       "      <td>141138.880893</td>\n",
       "      <td>1250.175714</td>\n",
       "      <td>39314.077666</td>\n",
       "      <td>7.782099e+05</td>\n",
       "      <td>1562.102119</td>\n",
       "      <td>113.111532</td>\n",
       "      <td>1.781910</td>\n",
       "      <td>1.584454e+05</td>\n",
       "      <td>538.331332</td>\n",
       "      <td>254.147438</td>\n",
       "      <td>18.139908</td>\n",
       "      <td>1.216476</td>\n",
       "    </tr>\n",
       "    <tr>\n",
       "      <th>std</th>\n",
       "      <td>83574.413411</td>\n",
       "      <td>539.828663</td>\n",
       "      <td>26412.949444</td>\n",
       "      <td>8.137573e+05</td>\n",
       "      <td>925.265762</td>\n",
       "      <td>51.376488</td>\n",
       "      <td>5.306706</td>\n",
       "      <td>2.059184e+05</td>\n",
       "      <td>248.238561</td>\n",
       "      <td>118.869907</td>\n",
       "      <td>21.479305</td>\n",
       "      <td>3.561743</td>\n",
       "    </tr>\n",
       "    <tr>\n",
       "      <th>min</th>\n",
       "      <td>5000.000000</td>\n",
       "      <td>60.000000</td>\n",
       "      <td>285.000000</td>\n",
       "      <td>0.000000e+00</td>\n",
       "      <td>0.000000</td>\n",
       "      <td>0.000000</td>\n",
       "      <td>0.000000</td>\n",
       "      <td>0.000000e+00</td>\n",
       "      <td>0.000000</td>\n",
       "      <td>20.000000</td>\n",
       "      <td>0.000000</td>\n",
       "      <td>0.000000</td>\n",
       "    </tr>\n",
       "    <tr>\n",
       "      <th>25%</th>\n",
       "      <td>80000.000000</td>\n",
       "      <td>967.000000</td>\n",
       "      <td>19926.000000</td>\n",
       "      <td>4.500000e+05</td>\n",
       "      <td>881.000000</td>\n",
       "      <td>80.000000</td>\n",
       "      <td>0.000000</td>\n",
       "      <td>6.025000e+04</td>\n",
       "      <td>358.000000</td>\n",
       "      <td>170.000000</td>\n",
       "      <td>0.000000</td>\n",
       "      <td>0.000000</td>\n",
       "    </tr>\n",
       "    <tr>\n",
       "      <th>50%</th>\n",
       "      <td>120000.000000</td>\n",
       "      <td>1299.000000</td>\n",
       "      <td>34465.000000</td>\n",
       "      <td>6.463500e+05</td>\n",
       "      <td>1552.000000</td>\n",
       "      <td>100.000000</td>\n",
       "      <td>0.000000</td>\n",
       "      <td>1.118100e+05</td>\n",
       "      <td>548.000000</td>\n",
       "      <td>240.000000</td>\n",
       "      <td>10.000000</td>\n",
       "      <td>0.000000</td>\n",
       "    </tr>\n",
       "    <tr>\n",
       "      <th>75%</th>\n",
       "      <td>200000.000000</td>\n",
       "      <td>1588.000000</td>\n",
       "      <td>53906.000000</td>\n",
       "      <td>9.000000e+05</td>\n",
       "      <td>2209.000000</td>\n",
       "      <td>140.000000</td>\n",
       "      <td>0.000000</td>\n",
       "      <td>1.962000e+05</td>\n",
       "      <td>729.000000</td>\n",
       "      <td>320.000000</td>\n",
       "      <td>30.000000</td>\n",
       "      <td>0.000000</td>\n",
       "    </tr>\n",
       "    <tr>\n",
       "      <th>max</th>\n",
       "      <td>400000.000000</td>\n",
       "      <td>3099.000000</td>\n",
       "      <td>153381.000000</td>\n",
       "      <td>8.706582e+07</td>\n",
       "      <td>99990.000000</td>\n",
       "      <td>900.000000</td>\n",
       "      <td>860.000000</td>\n",
       "      <td>1.743266e+07</td>\n",
       "      <td>9446.000000</td>\n",
       "      <td>1510.000000</td>\n",
       "      <td>340.000000</td>\n",
       "      <td>80.000000</td>\n",
       "    </tr>\n",
       "  </tbody>\n",
       "</table>\n",
       "</div>"
      ],
      "text/plain": [
       "           loan_amnt       int_rate    installment    annual_inc  \\\n",
       "count  396030.000000  396030.000000  396030.000000  3.960300e+05   \n",
       "mean   141138.880893    1250.175714   39314.077666  7.782099e+05   \n",
       "std     83574.413411     539.828663   26412.949444  8.137573e+05   \n",
       "min      5000.000000      60.000000     285.000000  0.000000e+00   \n",
       "25%     80000.000000     967.000000   19926.000000  4.500000e+05   \n",
       "50%    120000.000000    1299.000000   34465.000000  6.463500e+05   \n",
       "75%    200000.000000    1588.000000   53906.000000  9.000000e+05   \n",
       "max    400000.000000    3099.000000  153381.000000  8.706582e+07   \n",
       "\n",
       "                 dti       open_acc        pub_rec     revol_bal  \\\n",
       "count  396030.000000  396030.000000  396030.000000  3.960300e+05   \n",
       "mean     1562.102119     113.111532       1.781910  1.584454e+05   \n",
       "std       925.265762      51.376488       5.306706  2.059184e+05   \n",
       "min         0.000000       0.000000       0.000000  0.000000e+00   \n",
       "25%       881.000000      80.000000       0.000000  6.025000e+04   \n",
       "50%      1552.000000     100.000000       0.000000  1.118100e+05   \n",
       "75%      2209.000000     140.000000       0.000000  1.962000e+05   \n",
       "max     99990.000000     900.000000     860.000000  1.743266e+07   \n",
       "\n",
       "          revol_util      total_acc       mort_acc  pub_rec_bankruptcies  \n",
       "count  395754.000000  396030.000000  358235.000000         395495.000000  \n",
       "mean      538.331332     254.147438      18.139908              1.216476  \n",
       "std       248.238561     118.869907      21.479305              3.561743  \n",
       "min         0.000000      20.000000       0.000000              0.000000  \n",
       "25%       358.000000     170.000000       0.000000              0.000000  \n",
       "50%       548.000000     240.000000      10.000000              0.000000  \n",
       "75%       729.000000     320.000000      30.000000              0.000000  \n",
       "max      9446.000000    1510.000000     340.000000             80.000000  "
      ]
     },
     "execution_count": 5,
     "metadata": {},
     "output_type": "execute_result"
    }
   ],
   "source": [
    "# Obtenir un résumé statistique du jeu de données\n",
    "df.describe()"
   ]
  },
  {
   "cell_type": "code",
   "execution_count": 6,
   "metadata": {},
   "outputs": [
    {
     "name": "stdout",
     "output_type": "stream",
     "text": [
      "Nombre de lignes dupliquées: 0\n"
     ]
    }
   ],
   "source": [
    "# Vérifier les doublons\n",
    "print(f\"Nombre de lignes dupliquées: {df.duplicated().sum()}\")"
   ]
  },
  {
   "cell_type": "markdown",
   "metadata": {},
   "source": [
    "Explorons les variables catégorielles dans notre jeu de données :"
   ]
  },
  {
   "cell_type": "code",
   "execution_count": 8,
   "metadata": {},
   "outputs": [
    {
     "name": "stdout",
     "output_type": "stream",
     "text": [
      "\n",
      "Valeurs uniques dans loan_status:\n",
      "loan_status\n",
      "Fully Paid     318357\n",
      "Charged Off     77673\n",
      "Name: count, dtype: int64\n",
      "\n",
      "Valeurs uniques dans home_ownership:\n",
      "home_ownership\n",
      "MORTGAGE    198348\n",
      "RENT        159790\n",
      "OWN          37746\n",
      "OTHER          112\n",
      "NONE            31\n",
      "ANY              3\n",
      "Name: count, dtype: int64\n",
      "\n",
      "Valeurs uniques dans purpose:\n",
      "purpose\n",
      "debt_consolidation    234507\n",
      "credit_card            83019\n",
      "home_improvement       24030\n",
      "other                  21185\n",
      "major_purchase          8790\n",
      "small_business          5701\n",
      "car                     4697\n",
      "medical                 4196\n",
      "moving                  2854\n",
      "vacation                2452\n",
      "house                   2201\n",
      "wedding                 1812\n",
      "renewable_energy         329\n",
      "educational              257\n",
      "Name: count, dtype: int64\n",
      "\n",
      "Valeurs uniques dans term:\n",
      "term\n",
      "36 months    302005\n",
      "60 months     94025\n",
      "Name: count, dtype: int64\n",
      "\n",
      "Valeurs uniques dans grade:\n",
      "grade\n",
      "B    116018\n",
      "C    105987\n",
      "A     64187\n",
      "D     63524\n",
      "E     31488\n",
      "F     11772\n",
      "G      3054\n",
      "Name: count, dtype: int64\n",
      "\n",
      "Valeurs uniques dans emp_length:\n",
      "emp_length\n",
      "10+ years    126041\n",
      "2 years       35827\n",
      "< 1 year      31725\n",
      "3 years       31665\n",
      "5 years       26495\n",
      "1 year        25882\n",
      "4 years       23952\n",
      "6 years       20841\n",
      "7 years       20819\n",
      "8 years       19168\n",
      "9 years       15314\n",
      "Name: count, dtype: int64\n"
     ]
    }
   ],
   "source": [
    "# Vérifier les valeurs uniques dans chaque colonne catégorielle\n",
    "categorical_columns = [\"loan_status\", \"home_ownership\", \"purpose\", \"term\", \"grade\", \"emp_length\"]\n",
    "\n",
    "for column in categorical_columns:\n",
    "    print(f\"\\nValeurs uniques dans {column}:\")\n",
    "    print(df[column].value_counts())"
   ]
  },
  {
   "cell_type": "code",
   "execution_count": 31,
   "metadata": {},
   "outputs": [
    {
     "name": "stdout",
     "output_type": "stream",
     "text": [
      "[  0.  30.  10.  40.  20.  60.  50.  nan 100.  70. 120. 110.  80.  90.\n",
      " 130. 140. 220. 340. 150. 250. 190. 160. 170. 320. 180. 240. 210. 200.\n",
      " 310. 280. 300. 230. 260. 270.]\n"
     ]
    }
   ],
   "source": [
    "mort_acc = df[\"mort_acc\"].unique()\n",
    "print(mort_acc)"
   ]
  },
  {
   "cell_type": "markdown",
   "metadata": {},
   "source": [
    "<a id=\"missing-values\"></a>\n",
    "## 3. Gestion des Valeurs Manquantes\n",
    "\n",
    "Vérifions s'il y a des valeurs manquantes dans notre jeu de données et traitons-les de manière appropriée."
   ]
  },
  {
   "cell_type": "code",
   "execution_count": 9,
   "metadata": {},
   "outputs": [
    {
     "name": "stdout",
     "output_type": "stream",
     "text": [
      "Valeurs manquantes dans chaque colonne:\n",
      "loan_amnt                   0\n",
      "term                        0\n",
      "int_rate                    0\n",
      "installment                 0\n",
      "grade                       0\n",
      "sub_grade                   0\n",
      "emp_title               22927\n",
      "emp_length              18301\n",
      "home_ownership              0\n",
      "annual_inc                  0\n",
      "verification_status         0\n",
      "issue_d                     0\n",
      "loan_status                 0\n",
      "purpose                     0\n",
      "title                    1756\n",
      "dti                         0\n",
      "earliest_cr_line            0\n",
      "open_acc                    0\n",
      "pub_rec                     0\n",
      "revol_bal                   0\n",
      "revol_util                276\n",
      "total_acc                   0\n",
      "initial_list_status         0\n",
      "application_type            0\n",
      "mort_acc                37795\n",
      "pub_rec_bankruptcies      535\n",
      "dtype: int64\n"
     ]
    }
   ],
   "source": [
    "# Vérifier les valeurs manquantes de toutes les colonnes\n",
    "missing_values = df.isnull().sum()\n",
    "print(\"Valeurs manquantes dans chaque colonne:\")\n",
    "print(missing_values)"
   ]
  },
  {
   "cell_type": "code",
   "execution_count": 73,
   "metadata": {},
   "outputs": [
    {
     "data": {
      "text/html": [
       "<div>\n",
       "<style scoped>\n",
       "    .dataframe tbody tr th:only-of-type {\n",
       "        vertical-align: middle;\n",
       "    }\n",
       "\n",
       "    .dataframe tbody tr th {\n",
       "        vertical-align: top;\n",
       "    }\n",
       "\n",
       "    .dataframe thead th {\n",
       "        text-align: right;\n",
       "    }\n",
       "</style>\n",
       "<table border=\"1\" class=\"dataframe\">\n",
       "  <thead>\n",
       "    <tr style=\"text-align: right;\">\n",
       "      <th></th>\n",
       "      <th>loan_amnt</th>\n",
       "      <th>annual_inc</th>\n",
       "      <th>loan_status</th>\n",
       "      <th>purpose</th>\n",
       "      <th>pub_rec_bankruptcies</th>\n",
       "      <th>grade</th>\n",
       "      <th>sub_grade</th>\n",
       "      <th>emp_length</th>\n",
       "      <th>emp_title</th>\n",
       "    </tr>\n",
       "  </thead>\n",
       "  <tbody>\n",
       "    <tr>\n",
       "      <th>0</th>\n",
       "      <td>100000</td>\n",
       "      <td>1170000</td>\n",
       "      <td>Fully Paid</td>\n",
       "      <td>vacation</td>\n",
       "      <td>0.0</td>\n",
       "      <td>B</td>\n",
       "      <td>B4</td>\n",
       "      <td>10+ years</td>\n",
       "      <td>Marketing</td>\n",
       "    </tr>\n",
       "    <tr>\n",
       "      <th>1</th>\n",
       "      <td>80000</td>\n",
       "      <td>650000</td>\n",
       "      <td>Fully Paid</td>\n",
       "      <td>debt_consolidation</td>\n",
       "      <td>0.0</td>\n",
       "      <td>B</td>\n",
       "      <td>B5</td>\n",
       "      <td>4 years</td>\n",
       "      <td>Credit analyst</td>\n",
       "    </tr>\n",
       "    <tr>\n",
       "      <th>2</th>\n",
       "      <td>156000</td>\n",
       "      <td>430570</td>\n",
       "      <td>Fully Paid</td>\n",
       "      <td>credit_card</td>\n",
       "      <td>0.0</td>\n",
       "      <td>B</td>\n",
       "      <td>B3</td>\n",
       "      <td>&lt; 1 year</td>\n",
       "      <td>Statistician</td>\n",
       "    </tr>\n",
       "    <tr>\n",
       "      <th>3</th>\n",
       "      <td>72000</td>\n",
       "      <td>540000</td>\n",
       "      <td>Fully Paid</td>\n",
       "      <td>credit_card</td>\n",
       "      <td>0.0</td>\n",
       "      <td>A</td>\n",
       "      <td>A2</td>\n",
       "      <td>6 years</td>\n",
       "      <td>Client Advocate</td>\n",
       "    </tr>\n",
       "    <tr>\n",
       "      <th>4</th>\n",
       "      <td>243750</td>\n",
       "      <td>550000</td>\n",
       "      <td>Charged Off</td>\n",
       "      <td>credit_card</td>\n",
       "      <td>0.0</td>\n",
       "      <td>C</td>\n",
       "      <td>C5</td>\n",
       "      <td>9 years</td>\n",
       "      <td>Destiny Management Inc.</td>\n",
       "    </tr>\n",
       "  </tbody>\n",
       "</table>\n",
       "</div>"
      ],
      "text/plain": [
       "   loan_amnt  annual_inc  loan_status             purpose  \\\n",
       "0     100000     1170000   Fully Paid            vacation   \n",
       "1      80000      650000   Fully Paid  debt_consolidation   \n",
       "2     156000      430570   Fully Paid         credit_card   \n",
       "3      72000      540000   Fully Paid         credit_card   \n",
       "4     243750      550000  Charged Off         credit_card   \n",
       "\n",
       "   pub_rec_bankruptcies grade sub_grade emp_length                emp_title  \n",
       "0                   0.0     B        B4  10+ years                Marketing  \n",
       "1                   0.0     B        B5    4 years          Credit analyst   \n",
       "2                   0.0     B        B3   < 1 year             Statistician  \n",
       "3                   0.0     A        A2    6 years          Client Advocate  \n",
       "4                   0.0     C        C5    9 years  Destiny Management Inc.  "
      ]
     },
     "execution_count": 73,
     "metadata": {},
     "output_type": "execute_result"
    }
   ],
   "source": [
    "features = df[[\"loan_amnt\", \"annual_inc\", \"loan_status\", \"purpose\", \"pub_rec_bankruptcies\",\"grade\",\"sub_grade\",\"emp_length\", \"emp_title\"]]\n",
    "features.head()"
   ]
  },
  {
   "cell_type": "code",
   "execution_count": 74,
   "metadata": {},
   "outputs": [
    {
     "name": "stdout",
     "output_type": "stream",
     "text": [
      "Valeurs manquantes dans chaque colonne:\n",
      "loan_amnt                   0\n",
      "annual_inc                  0\n",
      "loan_status                 0\n",
      "purpose                     0\n",
      "pub_rec_bankruptcies      535\n",
      "grade                       0\n",
      "sub_grade                   0\n",
      "emp_length              18301\n",
      "emp_title               22927\n",
      "dtype: int64\n"
     ]
    }
   ],
   "source": [
    "missing_values = features.isna().sum()\n",
    "print(\"Valeurs manquantes dans chaque colonne:\")\n",
    "print(missing_values)\n"
   ]
  },
  {
   "cell_type": "code",
   "execution_count": 75,
   "metadata": {},
   "outputs": [
    {
     "data": {
      "text/plain": [
       "pub_rec_bankruptcies\n",
       "0.0     350380\n",
       "10.0     42790\n",
       "20.0      1847\n",
       "30.0       351\n",
       "40.0        82\n",
       "50.0        32\n",
       "60.0         7\n",
       "70.0         4\n",
       "80.0         2\n",
       "Name: count, dtype: int64"
      ]
     },
     "execution_count": 75,
     "metadata": {},
     "output_type": "execute_result"
    }
   ],
   "source": [
    "features[\"pub_rec_bankruptcies\"].value_counts()"
   ]
  },
  {
   "cell_type": "markdown",
   "metadata": {},
   "source": [
    "Si nous trouvons des valeurs manquantes, nous pouvons les traiter en utilisant différentes méthodes :\n",
    "\n",
    "1. **Supprimer les lignes avec des valeurs manquantes**\n",
    "2. **Remplacer les valeurs manquantes par la moyenne, la médiane ou le mode**\n",
    "3. **Remplacer les valeurs manquantes selon une stratégie spécifique**\n",
    "\n",
    "Mettons en œuvre ces stratégies selon les besoins :"
   ]
  },
  {
   "cell_type": "code",
   "execution_count": null,
   "metadata": {},
   "outputs": [],
   "source": [
    "# Exemple: S'il y avait des valeurs manquantes dans les colonnes numériques, nous pourrions les remplacer par la moyenne\n",
    "numerical_columns = ['math_score', 'reading_score', 'writing_score']\n",
    "\n",
    "for column in numerical_columns:\n",
    "    if df[column].isnull().sum() > 0:\n",
    "        mean_value = df[column].mean()\n",
    "        df[column].fillna(mean_value, inplace=True)\n",
    "        print(f\"Valeurs manquantes remplacées dans {column} par la moyenne: {mean_value:.2f}\")"
   ]
  },
  {
   "cell_type": "code",
   "execution_count": 76,
   "metadata": {},
   "outputs": [
    {
     "name": "stdout",
     "output_type": "stream",
     "text": [
      "Valeurs manquantes remplacées dans pub_rec_bankruptcies par le mode: 0.0\n",
      "Valeurs manquantes remplacées dans emp_length par le mode: 10+ years\n",
      "Valeurs manquantes remplacées dans emp_title par le mode: Teacher\n"
     ]
    },
    {
     "name": "stderr",
     "output_type": "stream",
     "text": [
      "/var/folders/np/_5hqzh552rjft_zc9xgjsh640000gn/T/ipykernel_13996/1134553474.py:5: FutureWarning: A value is trying to be set on a copy of a DataFrame or Series through chained assignment using an inplace method.\n",
      "The behavior will change in pandas 3.0. This inplace method will never work because the intermediate object on which we are setting values always behaves as a copy.\n",
      "\n",
      "For example, when doing 'df[col].method(value, inplace=True)', try using 'df.method({col: value}, inplace=True)' or df[col] = df[col].method(value) instead, to perform the operation inplace on the original object.\n",
      "\n",
      "\n",
      "  features[column].fillna(mode_value, inplace=True)\n",
      "/var/folders/np/_5hqzh552rjft_zc9xgjsh640000gn/T/ipykernel_13996/1134553474.py:5: SettingWithCopyWarning: \n",
      "A value is trying to be set on a copy of a slice from a DataFrame\n",
      "\n",
      "See the caveats in the documentation: https://pandas.pydata.org/pandas-docs/stable/user_guide/indexing.html#returning-a-view-versus-a-copy\n",
      "  features[column].fillna(mode_value, inplace=True)\n"
     ]
    }
   ],
   "source": [
    "# Exemple: S'il y avait des valeurs manquantes dans les colonnes catégorielles, nous pourrions les remplacer par le mode\n",
    "for column in features:\n",
    "    if features[column].isnull().sum() > 0:\n",
    "        mode_value = features[column].mode()[0]\n",
    "        features[column].fillna(mode_value, inplace=True)\n",
    "        print(f\"Valeurs manquantes remplacées dans {column} par le mode: {mode_value}\")"
   ]
  },
  {
   "cell_type": "markdown",
   "metadata": {},
   "source": [
    "<a id=\"data-formats\"></a>\n",
    "## 4. Correction des Formats de Données\n",
    "\n",
    "Vérifions les types de données de nos colonnes et assurons-nous qu'ils sont au format correct."
   ]
  },
  {
   "cell_type": "code",
   "execution_count": 77,
   "metadata": {},
   "outputs": [
    {
     "data": {
      "text/plain": [
       "loan_amnt                 int64\n",
       "annual_inc                int64\n",
       "loan_status              object\n",
       "purpose                  object\n",
       "pub_rec_bankruptcies    float64\n",
       "grade                    object\n",
       "sub_grade                object\n",
       "emp_length               object\n",
       "emp_title                object\n",
       "dtype: object"
      ]
     },
     "execution_count": 77,
     "metadata": {},
     "output_type": "execute_result"
    }
   ],
   "source": [
    "# Vérifier les types de données\n",
    "features.dtypes"
   ]
  },
  {
   "cell_type": "code",
   "execution_count": 78,
   "metadata": {},
   "outputs": [
    {
     "name": "stderr",
     "output_type": "stream",
     "text": [
      "/var/folders/np/_5hqzh552rjft_zc9xgjsh640000gn/T/ipykernel_13996/3881251265.py:5: SettingWithCopyWarning: \n",
      "A value is trying to be set on a copy of a slice from a DataFrame.\n",
      "Try using .loc[row_indexer,col_indexer] = value instead\n",
      "\n",
      "See the caveats in the documentation: https://pandas.pydata.org/pandas-docs/stable/user_guide/indexing.html#returning-a-view-versus-a-copy\n",
      "  features[column] = features[column].astype('float')\n",
      "/var/folders/np/_5hqzh552rjft_zc9xgjsh640000gn/T/ipykernel_13996/3881251265.py:5: SettingWithCopyWarning: \n",
      "A value is trying to be set on a copy of a slice from a DataFrame.\n",
      "Try using .loc[row_indexer,col_indexer] = value instead\n",
      "\n",
      "See the caveats in the documentation: https://pandas.pydata.org/pandas-docs/stable/user_guide/indexing.html#returning-a-view-versus-a-copy\n",
      "  features[column] = features[column].astype('float')\n"
     ]
    },
    {
     "data": {
      "text/plain": [
       "loan_amnt               float64\n",
       "annual_inc              float64\n",
       "loan_status              object\n",
       "purpose                  object\n",
       "pub_rec_bankruptcies    float64\n",
       "grade                    object\n",
       "sub_grade                object\n",
       "emp_length               object\n",
       "emp_title                object\n",
       "dtype: object"
      ]
     },
     "execution_count": 78,
     "metadata": {},
     "output_type": "execute_result"
    }
   ],
   "source": [
    "# Convertir les types de données si nécessaire\n",
    "# Par exemple, s'assurer que les colonnes numériques sont du type correct\n",
    "for column in features:\n",
    "    if features[column].dtype == 'int64':\n",
    "        features[column] = features[column].astype('float')\n",
    "\n",
    "# Vérifier les types de données\n",
    "features.dtypes"
   ]
  },
  {
   "cell_type": "code",
   "execution_count": 79,
   "metadata": {},
   "outputs": [
    {
     "name": "stderr",
     "output_type": "stream",
     "text": [
      "/var/folders/np/_5hqzh552rjft_zc9xgjsh640000gn/T/ipykernel_13996/667026039.py:1: SettingWithCopyWarning: \n",
      "A value is trying to be set on a copy of a slice from a DataFrame.\n",
      "Try using .loc[row_indexer,col_indexer] = value instead\n",
      "\n",
      "See the caveats in the documentation: https://pandas.pydata.org/pandas-docs/stable/user_guide/indexing.html#returning-a-view-versus-a-copy\n",
      "  features[\"pub_rec_bankruptcies\"] = features[\"pub_rec_bankruptcies\"].astype(\"int64\")\n"
     ]
    }
   ],
   "source": [
    "features[\"pub_rec_bankruptcies\"] = features[\"pub_rec_bankruptcies\"].astype(\"int64\")"
   ]
  },
  {
   "cell_type": "code",
   "execution_count": 80,
   "metadata": {},
   "outputs": [
    {
     "data": {
      "text/plain": [
       "loan_amnt               float64\n",
       "annual_inc              float64\n",
       "loan_status              object\n",
       "purpose                  object\n",
       "pub_rec_bankruptcies      int64\n",
       "grade                    object\n",
       "sub_grade                object\n",
       "emp_length               object\n",
       "emp_title                object\n",
       "dtype: object"
      ]
     },
     "execution_count": 80,
     "metadata": {},
     "output_type": "execute_result"
    }
   ],
   "source": [
    "features.dtypes"
   ]
  },
  {
   "cell_type": "markdown",
   "metadata": {},
   "source": [
    "<a id=\"standardization\"></a>\n",
    "## 5. Standardisation des Données\n",
    "\n",
    "La standardisation des données est le processus de transformation des données en un format commun qui permet une comparaison significative."
   ]
  },
  {
   "cell_type": "code",
   "execution_count": null,
   "metadata": {},
   "outputs": [],
   "source": [
    "# Créons une nouvelle fonctionnalité : score moyen\n",
    "df['average_score'] = (df['math_score'] + df['reading_score'] + df['writing_score']) / 3\n",
    "df['average_score'] = df['average_score'].round(2)\n",
    "\n",
    "# Afficher les premières lignes avec la nouvelle colonne\n",
    "df.head()"
   ]
  },
  {
   "cell_type": "code",
   "execution_count": null,
   "metadata": {},
   "outputs": [],
   "source": [
    "# Créer une colonne réussite/échec basée sur le score moyen (exemple de standardisation)\n",
    "# En supposant que 60 est le score de passage\n",
    "df['pass_status'] = np.where(df['average_score'] >= 60, 'Réussite', 'Échec')\n",
    "\n",
    "# Afficher les premières lignes avec la nouvelle colonne\n",
    "df.head()"
   ]
  },
  {
   "cell_type": "code",
   "execution_count": 81,
   "metadata": {},
   "outputs": [
    {
     "name": "stderr",
     "output_type": "stream",
     "text": [
      "/var/folders/np/_5hqzh552rjft_zc9xgjsh640000gn/T/ipykernel_13996/1049823757.py:2: SettingWithCopyWarning: \n",
      "A value is trying to be set on a copy of a slice from a DataFrame.\n",
      "Try using .loc[row_indexer,col_indexer] = value instead\n",
      "\n",
      "See the caveats in the documentation: https://pandas.pydata.org/pandas-docs/stable/user_guide/indexing.html#returning-a-view-versus-a-copy\n",
      "  features[\"emp_length_num\"] = features[\"emp_length\"].str.replace(\"years\", \"\").str.replace(\"year\", \"\").str.replace(\"\", \"\").str.replace(\" \", \"\").str.replace(\"< 1 year\", \"0\").str.replace(\"n/a\", \"\").str.replace(\"+\", \"\").str.replace(\"<1\", \"0\").astype('float')\n"
     ]
    },
    {
     "data": {
      "text/html": [
       "<div>\n",
       "<style scoped>\n",
       "    .dataframe tbody tr th:only-of-type {\n",
       "        vertical-align: middle;\n",
       "    }\n",
       "\n",
       "    .dataframe tbody tr th {\n",
       "        vertical-align: top;\n",
       "    }\n",
       "\n",
       "    .dataframe thead th {\n",
       "        text-align: right;\n",
       "    }\n",
       "</style>\n",
       "<table border=\"1\" class=\"dataframe\">\n",
       "  <thead>\n",
       "    <tr style=\"text-align: right;\">\n",
       "      <th></th>\n",
       "      <th>loan_amnt</th>\n",
       "      <th>annual_inc</th>\n",
       "      <th>loan_status</th>\n",
       "      <th>purpose</th>\n",
       "      <th>pub_rec_bankruptcies</th>\n",
       "      <th>grade</th>\n",
       "      <th>sub_grade</th>\n",
       "      <th>emp_length</th>\n",
       "      <th>emp_title</th>\n",
       "      <th>emp_length_num</th>\n",
       "    </tr>\n",
       "  </thead>\n",
       "  <tbody>\n",
       "    <tr>\n",
       "      <th>0</th>\n",
       "      <td>100000.0</td>\n",
       "      <td>1170000.0</td>\n",
       "      <td>Fully Paid</td>\n",
       "      <td>vacation</td>\n",
       "      <td>0</td>\n",
       "      <td>B</td>\n",
       "      <td>B4</td>\n",
       "      <td>10+ years</td>\n",
       "      <td>Marketing</td>\n",
       "      <td>10.0</td>\n",
       "    </tr>\n",
       "    <tr>\n",
       "      <th>1</th>\n",
       "      <td>80000.0</td>\n",
       "      <td>650000.0</td>\n",
       "      <td>Fully Paid</td>\n",
       "      <td>debt_consolidation</td>\n",
       "      <td>0</td>\n",
       "      <td>B</td>\n",
       "      <td>B5</td>\n",
       "      <td>4 years</td>\n",
       "      <td>Credit analyst</td>\n",
       "      <td>4.0</td>\n",
       "    </tr>\n",
       "    <tr>\n",
       "      <th>2</th>\n",
       "      <td>156000.0</td>\n",
       "      <td>430570.0</td>\n",
       "      <td>Fully Paid</td>\n",
       "      <td>credit_card</td>\n",
       "      <td>0</td>\n",
       "      <td>B</td>\n",
       "      <td>B3</td>\n",
       "      <td>&lt; 1 year</td>\n",
       "      <td>Statistician</td>\n",
       "      <td>0.0</td>\n",
       "    </tr>\n",
       "    <tr>\n",
       "      <th>3</th>\n",
       "      <td>72000.0</td>\n",
       "      <td>540000.0</td>\n",
       "      <td>Fully Paid</td>\n",
       "      <td>credit_card</td>\n",
       "      <td>0</td>\n",
       "      <td>A</td>\n",
       "      <td>A2</td>\n",
       "      <td>6 years</td>\n",
       "      <td>Client Advocate</td>\n",
       "      <td>6.0</td>\n",
       "    </tr>\n",
       "    <tr>\n",
       "      <th>4</th>\n",
       "      <td>243750.0</td>\n",
       "      <td>550000.0</td>\n",
       "      <td>Charged Off</td>\n",
       "      <td>credit_card</td>\n",
       "      <td>0</td>\n",
       "      <td>C</td>\n",
       "      <td>C5</td>\n",
       "      <td>9 years</td>\n",
       "      <td>Destiny Management Inc.</td>\n",
       "      <td>9.0</td>\n",
       "    </tr>\n",
       "  </tbody>\n",
       "</table>\n",
       "</div>"
      ],
      "text/plain": [
       "   loan_amnt  annual_inc  loan_status             purpose  \\\n",
       "0   100000.0   1170000.0   Fully Paid            vacation   \n",
       "1    80000.0    650000.0   Fully Paid  debt_consolidation   \n",
       "2   156000.0    430570.0   Fully Paid         credit_card   \n",
       "3    72000.0    540000.0   Fully Paid         credit_card   \n",
       "4   243750.0    550000.0  Charged Off         credit_card   \n",
       "\n",
       "   pub_rec_bankruptcies grade sub_grade emp_length                emp_title  \\\n",
       "0                     0     B        B4  10+ years                Marketing   \n",
       "1                     0     B        B5    4 years          Credit analyst    \n",
       "2                     0     B        B3   < 1 year             Statistician   \n",
       "3                     0     A        A2    6 years          Client Advocate   \n",
       "4                     0     C        C5    9 years  Destiny Management Inc.   \n",
       "\n",
       "   emp_length_num  \n",
       "0            10.0  \n",
       "1             4.0  \n",
       "2             0.0  \n",
       "3             6.0  \n",
       "4             9.0  "
      ]
     },
     "execution_count": 81,
     "metadata": {},
     "output_type": "execute_result"
    }
   ],
   "source": [
    "# from emp_length take the numeric value\n",
    "features[\"emp_length_num\"] = features[\"emp_length\"].str.replace(\"years\", \"\").str.replace(\"year\", \"\").str.replace(\"\", \"\").str.replace(\" \", \"\").str.replace(\"< 1 year\", \"0\").str.replace(\"n/a\", \"\").str.replace(\"+\", \"\").str.replace(\"<1\", \"0\").astype('float')\n",
    "features.head()\n",
    "\n"
   ]
  },
  {
   "cell_type": "code",
   "execution_count": 82,
   "metadata": {},
   "outputs": [
    {
     "data": {
      "text/plain": [
       "emp_length_num\n",
       "10.0    144342\n",
       "2.0      35827\n",
       "0.0      31725\n",
       "3.0      31665\n",
       "5.0      26495\n",
       "1.0      25882\n",
       "4.0      23952\n",
       "6.0      20841\n",
       "7.0      20819\n",
       "8.0      19168\n",
       "9.0      15314\n",
       "Name: count, dtype: int64"
      ]
     },
     "execution_count": 82,
     "metadata": {},
     "output_type": "execute_result"
    }
   ],
   "source": [
    "features[\"emp_length_num\"].value_counts()"
   ]
  },
  {
   "cell_type": "code",
   "execution_count": 83,
   "metadata": {},
   "outputs": [
    {
     "name": "stderr",
     "output_type": "stream",
     "text": [
      "/var/folders/np/_5hqzh552rjft_zc9xgjsh640000gn/T/ipykernel_13996/431206554.py:1: SettingWithCopyWarning: \n",
      "A value is trying to be set on a copy of a slice from a DataFrame.\n",
      "Try using .loc[row_indexer,col_indexer] = value instead\n",
      "\n",
      "See the caveats in the documentation: https://pandas.pydata.org/pandas-docs/stable/user_guide/indexing.html#returning-a-view-versus-a-copy\n",
      "  features[\"emp_length_num\"] = features[\"emp_length_num\"].astype(\"int64\")\n"
     ]
    },
    {
     "data": {
      "text/plain": [
       "loan_amnt               float64\n",
       "annual_inc              float64\n",
       "loan_status              object\n",
       "purpose                  object\n",
       "pub_rec_bankruptcies      int64\n",
       "grade                    object\n",
       "sub_grade                object\n",
       "emp_length               object\n",
       "emp_title                object\n",
       "emp_length_num            int64\n",
       "dtype: object"
      ]
     },
     "execution_count": 83,
     "metadata": {},
     "output_type": "execute_result"
    }
   ],
   "source": [
    "features[\"emp_length_num\"] = features[\"emp_length_num\"].astype(\"int64\")\n",
    "features.dtypes"
   ]
  },
  {
   "cell_type": "markdown",
   "metadata": {},
   "source": [
    "<a id=\"normalization\"></a>\n",
    "## 6. Normalisation des Données\n",
    "\n",
    "La normalisation est le processus de transformation des valeurs de plusieurs variables dans une plage similaire. Les techniques courantes de normalisation comprennent :\n",
    "\n",
    "1. **Mise à l'échelle Min-Max** : Met les valeurs à l'échelle dans une plage fixe de 0 à 1\n",
    "2. **Normalisation Z-score** : Standardise les valeurs en fonction de la moyenne et de l'écart-type\n",
    "\n",
    "Appliquons ces techniques à nos données numériques :"
   ]
  },
  {
   "cell_type": "code",
   "execution_count": 84,
   "metadata": {},
   "outputs": [
    {
     "data": {
      "image/png": "[encoded data removed]",
      "text/plain": [
       "<Figure size 640x480 with 1 Axes>"
      ]
     },
     "metadata": {},
     "output_type": "display_data"
    },
    {
     "data": {
      "image/png": "[encoded data removed]",
      "text/plain": [
       "<Figure size 640x480 with 1 Axes>"
      ]
     },
     "metadata": {},
     "output_type": "display_data"
    },
    {
     "data": {
      "image/png": "[encoded data removed]",
      "text/plain": [
       "<Figure size 640x480 with 1 Axes>"
      ]
     },
     "metadata": {},
     "output_type": "display_data"
    },
    {
     "data": {
      "image/png": "[encoded data removed]",
      "text/plain": [
       "<Figure size 640x480 with 1 Axes>"
      ]
     },
     "metadata": {},
     "output_type": "display_data"
    }
   ],
   "source": [
    "# Histogram of loan amount\n",
    "features[\"loan_amnt\"].hist(bins=100)\n",
    "plt.show()\n",
    "\n",
    "# Boxplot of loan amount\n",
    "features[\"loan_amnt\"].plot(kind=\"box\")\n",
    "plt.show()\n",
    "\n",
    "# Histogram of annual income\n",
    "features[\"annual_inc\"].hist(bins=100)\n",
    "plt.show()\n",
    "\n",
    "# Boxplot of annual income\n",
    "features[\"annual_inc\"].plot(kind=\"box\", ylim=(0, 2000000))\n",
    "plt.show()"
   ]
  },
  {
   "cell_type": "code",
   "execution_count": null,
   "metadata": {},
   "outputs": [],
   "source": [
    "features_clipped = features"
   ]
  },
  {
   "cell_type": "markdown",
   "metadata": {},
   "source": [
    "### Normalisation Min-Max"
   ]
  },
  {
   "cell_type": "code",
   "execution_count": 85,
   "metadata": {},
   "outputs": [
    {
     "name": "stderr",
     "output_type": "stream",
     "text": [
      "/var/folders/np/_5hqzh552rjft_zc9xgjsh640000gn/T/ipykernel_13996/1897581921.py:7: SettingWithCopyWarning: \n",
      "A value is trying to be set on a copy of a slice from a DataFrame.\n",
      "Try using .loc[row_indexer,col_indexer] = value instead\n",
      "\n",
      "See the caveats in the documentation: https://pandas.pydata.org/pandas-docs/stable/user_guide/indexing.html#returning-a-view-versus-a-copy\n",
      "  features[f'{column}_normalized'] = (features[column] - column_min) / (column_max - column_min)\n",
      "/var/folders/np/_5hqzh552rjft_zc9xgjsh640000gn/T/ipykernel_13996/1897581921.py:7: SettingWithCopyWarning: \n",
      "A value is trying to be set on a copy of a slice from a DataFrame.\n",
      "Try using .loc[row_indexer,col_indexer] = value instead\n",
      "\n",
      "See the caveats in the documentation: https://pandas.pydata.org/pandas-docs/stable/user_guide/indexing.html#returning-a-view-versus-a-copy\n",
      "  features[f'{column}_normalized'] = (features[column] - column_min) / (column_max - column_min)\n"
     ]
    }
   ],
   "source": [
    "# Mise à l'échelle Min-Max\n",
    "# si colonne est numérique\n",
    "for column in features:\n",
    "    if features[column].dtype == \"float64\" and \"normalized\" not in features[column].name and \"standardized\" not in features[column].name:\n",
    "        column_min = features[column].min()\n",
    "        column_max = features[column].max()\n",
    "        features[f'{column}_normalized'] = (features[column] - column_min) / (column_max - column_min)"
   ]
  },
  {
   "cell_type": "markdown",
   "metadata": {},
   "source": [
    "### Clipping aux quartiles 25 et 75"
   ]
  },
  {
   "cell_type": "code",
   "execution_count": 99,
   "metadata": {},
   "outputs": [
    {
     "name": "stderr",
     "output_type": "stream",
     "text": [
      "/var/folders/np/_5hqzh552rjft_zc9xgjsh640000gn/T/ipykernel_13996/1180994345.py:7: SettingWithCopyWarning: \n",
      "A value is trying to be set on a copy of a slice from a DataFrame.\n",
      "Try using .loc[row_indexer,col_indexer] = value instead\n",
      "\n",
      "See the caveats in the documentation: https://pandas.pydata.org/pandas-docs/stable/user_guide/indexing.html#returning-a-view-versus-a-copy\n",
      "  features[f'{column}_clipped_normalized'] = (features[column] - column_min) / (column_max - column_min)\n",
      "/var/folders/np/_5hqzh552rjft_zc9xgjsh640000gn/T/ipykernel_13996/1180994345.py:7: SettingWithCopyWarning: \n",
      "A value is trying to be set on a copy of a slice from a DataFrame.\n",
      "Try using .loc[row_indexer,col_indexer] = value instead\n",
      "\n",
      "See the caveats in the documentation: https://pandas.pydata.org/pandas-docs/stable/user_guide/indexing.html#returning-a-view-versus-a-copy\n",
      "  features[f'{column}_clipped_normalized'] = (features[column] - column_min) / (column_max - column_min)\n"
     ]
    }
   ],
   "source": [
    "# Mise à l'échelle Min-Max\n",
    "# si colonne est numérique\n",
    "for column in features:\n",
    "    if features[column].dtype == \"float64\" and \"normalized\" not in features[column].name and \"standardized\" not in features[column].name:\n",
    "        column_min = 0\n",
    "        column_max = features[column].quantile(0.75)\n",
    "        features[f'{column}_clipped_normalized'] = (features[column] - column_min) / (column_max - column_min)\n",
    "\n"
   ]
  },
  {
   "cell_type": "code",
   "execution_count": 87,
   "metadata": {},
   "outputs": [
    {
     "name": "stderr",
     "output_type": "stream",
     "text": [
      "/var/folders/np/_5hqzh552rjft_zc9xgjsh640000gn/T/ipykernel_13996/4238590542.py:6: SettingWithCopyWarning: \n",
      "A value is trying to be set on a copy of a slice from a DataFrame.\n",
      "Try using .loc[row_indexer,col_indexer] = value instead\n",
      "\n",
      "See the caveats in the documentation: https://pandas.pydata.org/pandas-docs/stable/user_guide/indexing.html#returning-a-view-versus-a-copy\n",
      "  features[f'{column}_standardized'] = (features[column] - mean) / std\n",
      "/var/folders/np/_5hqzh552rjft_zc9xgjsh640000gn/T/ipykernel_13996/4238590542.py:6: SettingWithCopyWarning: \n",
      "A value is trying to be set on a copy of a slice from a DataFrame.\n",
      "Try using .loc[row_indexer,col_indexer] = value instead\n",
      "\n",
      "See the caveats in the documentation: https://pandas.pydata.org/pandas-docs/stable/user_guide/indexing.html#returning-a-view-versus-a-copy\n",
      "  features[f'{column}_standardized'] = (features[column] - mean) / std\n"
     ]
    }
   ],
   "source": [
    "# Normalisation Z-score\n",
    "for column in features:\n",
    "    if features[column].dtype == \"float64\" and \"normalized\" not in features[column].name and \"standardized\" not in features[column].name:\n",
    "        mean = features[column].mean()\n",
    "        std = features[column].std()\n",
    "        features[f'{column}_standardized'] = (features[column] - mean) / std"
   ]
  },
  {
   "cell_type": "code",
   "execution_count": 88,
   "metadata": {},
   "outputs": [
    {
     "data": {
      "text/html": [
       "<div>\n",
       "<style scoped>\n",
       "    .dataframe tbody tr th:only-of-type {\n",
       "        vertical-align: middle;\n",
       "    }\n",
       "\n",
       "    .dataframe tbody tr th {\n",
       "        vertical-align: top;\n",
       "    }\n",
       "\n",
       "    .dataframe thead th {\n",
       "        text-align: right;\n",
       "    }\n",
       "</style>\n",
       "<table border=\"1\" class=\"dataframe\">\n",
       "  <thead>\n",
       "    <tr style=\"text-align: right;\">\n",
       "      <th></th>\n",
       "      <th>loan_amnt</th>\n",
       "      <th>annual_inc</th>\n",
       "      <th>loan_status</th>\n",
       "      <th>purpose</th>\n",
       "      <th>pub_rec_bankruptcies</th>\n",
       "      <th>grade</th>\n",
       "      <th>sub_grade</th>\n",
       "      <th>emp_length</th>\n",
       "      <th>emp_title</th>\n",
       "      <th>emp_length_num</th>\n",
       "      <th>loan_amnt_normalized</th>\n",
       "      <th>annual_inc_normalized</th>\n",
       "      <th>loan_amnt_clipped_normalized</th>\n",
       "      <th>annual_inc_clipped_normalized</th>\n",
       "      <th>loan_amnt_standardized</th>\n",
       "      <th>annual_inc_standardized</th>\n",
       "    </tr>\n",
       "  </thead>\n",
       "  <tbody>\n",
       "    <tr>\n",
       "      <th>0</th>\n",
       "      <td>100000.0</td>\n",
       "      <td>1170000.0</td>\n",
       "      <td>Fully Paid</td>\n",
       "      <td>vacation</td>\n",
       "      <td>0</td>\n",
       "      <td>B</td>\n",
       "      <td>B4</td>\n",
       "      <td>10+ years</td>\n",
       "      <td>Marketing</td>\n",
       "      <td>10</td>\n",
       "      <td>0.240506</td>\n",
       "      <td>0.013438</td>\n",
       "      <td>0.166667</td>\n",
       "      <td>1.600000</td>\n",
       "      <td>-0.492243</td>\n",
       "      <td>0.481458</td>\n",
       "    </tr>\n",
       "    <tr>\n",
       "      <th>1</th>\n",
       "      <td>80000.0</td>\n",
       "      <td>650000.0</td>\n",
       "      <td>Fully Paid</td>\n",
       "      <td>debt_consolidation</td>\n",
       "      <td>0</td>\n",
       "      <td>B</td>\n",
       "      <td>B5</td>\n",
       "      <td>4 years</td>\n",
       "      <td>Credit analyst</td>\n",
       "      <td>4</td>\n",
       "      <td>0.189873</td>\n",
       "      <td>0.007466</td>\n",
       "      <td>0.000000</td>\n",
       "      <td>0.444444</td>\n",
       "      <td>-0.731550</td>\n",
       "      <td>-0.157553</td>\n",
       "    </tr>\n",
       "    <tr>\n",
       "      <th>2</th>\n",
       "      <td>156000.0</td>\n",
       "      <td>430570.0</td>\n",
       "      <td>Fully Paid</td>\n",
       "      <td>credit_card</td>\n",
       "      <td>0</td>\n",
       "      <td>B</td>\n",
       "      <td>B3</td>\n",
       "      <td>&lt; 1 year</td>\n",
       "      <td>Statistician</td>\n",
       "      <td>0</td>\n",
       "      <td>0.382278</td>\n",
       "      <td>0.004945</td>\n",
       "      <td>0.633333</td>\n",
       "      <td>-0.043178</td>\n",
       "      <td>0.177819</td>\n",
       "      <td>-0.427203</td>\n",
       "    </tr>\n",
       "    <tr>\n",
       "      <th>3</th>\n",
       "      <td>72000.0</td>\n",
       "      <td>540000.0</td>\n",
       "      <td>Fully Paid</td>\n",
       "      <td>credit_card</td>\n",
       "      <td>0</td>\n",
       "      <td>A</td>\n",
       "      <td>A2</td>\n",
       "      <td>6 years</td>\n",
       "      <td>Client Advocate</td>\n",
       "      <td>6</td>\n",
       "      <td>0.169620</td>\n",
       "      <td>0.006202</td>\n",
       "      <td>-0.066667</td>\n",
       "      <td>0.200000</td>\n",
       "      <td>-0.827273</td>\n",
       "      <td>-0.292728</td>\n",
       "    </tr>\n",
       "    <tr>\n",
       "      <th>4</th>\n",
       "      <td>243750.0</td>\n",
       "      <td>550000.0</td>\n",
       "      <td>Charged Off</td>\n",
       "      <td>credit_card</td>\n",
       "      <td>0</td>\n",
       "      <td>C</td>\n",
       "      <td>C5</td>\n",
       "      <td>9 years</td>\n",
       "      <td>Destiny Management Inc.</td>\n",
       "      <td>9</td>\n",
       "      <td>0.604430</td>\n",
       "      <td>0.006317</td>\n",
       "      <td>1.364583</td>\n",
       "      <td>0.222222</td>\n",
       "      <td>1.227782</td>\n",
       "      <td>-0.280440</td>\n",
       "    </tr>\n",
       "  </tbody>\n",
       "</table>\n",
       "</div>"
      ],
      "text/plain": [
       "   loan_amnt  annual_inc  loan_status             purpose  \\\n",
       "0   100000.0   1170000.0   Fully Paid            vacation   \n",
       "1    80000.0    650000.0   Fully Paid  debt_consolidation   \n",
       "2   156000.0    430570.0   Fully Paid         credit_card   \n",
       "3    72000.0    540000.0   Fully Paid         credit_card   \n",
       "4   243750.0    550000.0  Charged Off         credit_card   \n",
       "\n",
       "   pub_rec_bankruptcies grade sub_grade emp_length                emp_title  \\\n",
       "0                     0     B        B4  10+ years                Marketing   \n",
       "1                     0     B        B5    4 years          Credit analyst    \n",
       "2                     0     B        B3   < 1 year             Statistician   \n",
       "3                     0     A        A2    6 years          Client Advocate   \n",
       "4                     0     C        C5    9 years  Destiny Management Inc.   \n",
       "\n",
       "   emp_length_num  loan_amnt_normalized  annual_inc_normalized  \\\n",
       "0              10              0.240506               0.013438   \n",
       "1               4              0.189873               0.007466   \n",
       "2               0              0.382278               0.004945   \n",
       "3               6              0.169620               0.006202   \n",
       "4               9              0.604430               0.006317   \n",
       "\n",
       "   loan_amnt_clipped_normalized  annual_inc_clipped_normalized  \\\n",
       "0                      0.166667                       1.600000   \n",
       "1                      0.000000                       0.444444   \n",
       "2                      0.633333                      -0.043178   \n",
       "3                     -0.066667                       0.200000   \n",
       "4                      1.364583                       0.222222   \n",
       "\n",
       "   loan_amnt_standardized  annual_inc_standardized  \n",
       "0               -0.492243                 0.481458  \n",
       "1               -0.731550                -0.157553  \n",
       "2                0.177819                -0.427203  \n",
       "3               -0.827273                -0.292728  \n",
       "4                1.227782                -0.280440  "
      ]
     },
     "execution_count": 88,
     "metadata": {},
     "output_type": "execute_result"
    }
   ],
   "source": [
    "features.head()"
   ]
  },
  {
   "cell_type": "markdown",
   "metadata": {},
   "source": [
    "Visualisons la distribution des scores originaux et normalisés :"
   ]
  },
  {
   "cell_type": "code",
   "execution_count": 100,
   "metadata": {},
   "outputs": [
    {
     "data": {
      "image/png": "[encoded data removed]",
      "text/plain": [
       "<Figure size 1500x1000 with 4 Axes>"
      ]
     },
     "metadata": {},
     "output_type": "display_data"
    }
   ],
   "source": [
    "# Visualisation des données originales vs normalisées pour le score en mathématiques\n",
    "plt.figure(figsize=(15, 10))\n",
    "\n",
    "plt.subplot(2, 2, 1)\n",
    "sns.histplot(features['loan_amnt'], kde=True)\n",
    "plt.title('Scores Mathématiques Originaux')\n",
    "\n",
    "plt.subplot(2, 2, 2)\n",
    "sns.histplot(features['loan_amnt_normalized'], kde=True)\n",
    "plt.title('Scores Mathématiques Normalisés Min-Max')\n",
    "\n",
    "plt.subplot(2, 2, 3)\n",
    "sns.histplot(features['loan_amnt_clipped_normalized'], kde=True)\n",
    "plt.title('Scores Mathématiques Normalisés Min-Max')\n",
    "\n",
    "plt.subplot(2, 2, 4)\n",
    "sns.histplot(features['loan_amnt_standardized'], kde=True)\n",
    "plt.title('Scores Mathématiques Standardisés Z-Score')\n",
    "\n",
    "plt.tight_layout()\n",
    "plt.show()"
   ]
  },
  {
   "cell_type": "markdown",
   "metadata": {},
   "source": [
    "<a id=\"binning\"></a>\n",
    "## 7. Discrétisation\n",
    "\n",
    "La discrétisation est un processus de transformation des variables numériques continues en 'bins' catégoriels discrets pour une analyse groupée."
   ]
  },
  {
   "cell_type": "code",
   "execution_count": 106,
   "metadata": {},
   "outputs": [
    {
     "name": "stderr",
     "output_type": "stream",
     "text": [
      "/var/folders/np/_5hqzh552rjft_zc9xgjsh640000gn/T/ipykernel_13996/2247363678.py:4: SettingWithCopyWarning: \n",
      "A value is trying to be set on a copy of a slice from a DataFrame.\n",
      "Try using .loc[row_indexer,col_indexer] = value instead\n",
      "\n",
      "See the caveats in the documentation: https://pandas.pydata.org/pandas-docs/stable/user_guide/indexing.html#returning-a-view-versus-a-copy\n",
      "  features['pub_rec_bankruptcies_category'] = pd.cut(features['pub_rec_bankruptcies'], bins=bins, labels=labels, include_lowest=True)\n"
     ]
    }
   ],
   "source": [
    "# Regroupement des scores mathématiques en catégories\n",
    "bins = [0, 10, 30, 80] \n",
    "labels = [\"Excellent\", \"Moyen\", \"Faible\"]\n",
    "features['pub_rec_bankruptcies_category'] = pd.cut(features['pub_rec_bankruptcies'], bins=bins, labels=labels, include_lowest=True)"
   ]
  },
  {
   "cell_type": "code",
   "execution_count": 105,
   "metadata": {},
   "outputs": [
    {
     "name": "stdout",
     "output_type": "stream",
     "text": [
      "pub_rec_bankruptcies_category\n",
      "Excellent    393705\n",
      "Moyen          2198\n",
      "Faible          127\n",
      "Name: count, dtype: int64\n"
     ]
    }
   ],
   "source": [
    "# Compter le nombre d'étudiants dans chaque groupe\n",
    "pub_rec_bankruptcies_category_counts = features['pub_rec_bankruptcies_category'].value_counts().sort_index()\n",
    "print(pub_rec_bankruptcies_category_counts)"
   ]
  },
  {
   "cell_type": "code",
   "execution_count": null,
   "metadata": {},
   "outputs": [],
   "source": [
    "# Visualiser les données regroupées\n",
    "plt.figure(figsize=(10, 6))\n",
    "sns.countplot(x='math_score_category', data=df, palette='viridis')\n",
    "plt.title('Distribution des Catégories de Scores en Mathématiques')\n",
    "plt.xlabel('Catégorie de Score en Mathématiques')\n",
    "plt.ylabel('Effectif')\n",
    "plt.show()"
   ]
  },
  {
   "cell_type": "markdown",
   "metadata": {},
   "source": [
    "<a id=\"indicator-variables\"></a>\n",
    "## 8. Encodage One-Hot (Variables Indicatrices/Variables Dummy)\n",
    "\n",
    "L'encodage one-hot crée des colonnes binaires (0 ou 1) pour chaque catégorie dans les variables catégorielles. Ces variables sont également connues sous le nom de variables indicatrices ou variables dummy. Cette technique est essentielle pour inclure des données catégorielles dans des modèles statistiques qui nécessitent des entrées numériques."
   ]
  },
  {
   "cell_type": "code",
   "execution_count": null,
   "metadata": {},
   "outputs": [],
   "source": [
    "# Créer des variables dummy pour le genre en utilisant l'encodage one-hot\n",
    "gender_dummies = pd.get_dummies(df['gender'], prefix='gender')\n",
    "gender_dummies.head()"
   ]
  },
  {
   "cell_type": "code",
   "execution_count": null,
   "metadata": {},
   "outputs": [],
   "source": [
    "# Créer des variables dummy pour la race/ethnicité en utilisant l'encodage one-hot\n",
    "race_dummies = pd.get_dummies(df['race/ethnicity'], prefix='race')\n",
    "race_dummies.head()"
   ]
  },
  {
   "cell_type": "code",
   "execution_count": null,
   "metadata": {},
   "outputs": [],
   "source": [
    "# Créer des variables dummy pour le cours de préparation aux tests en utilisant l'encodage one-hot\n",
    "test_prep_dummies = pd.get_dummies(df['test_prep_course'], prefix='test_prep')\n",
    "test_prep_dummies.head()"
   ]
  },
  {
   "cell_type": "code",
   "execution_count": null,
   "metadata": {},
   "outputs": [],
   "source": [
    "# Fusionner les variables dummy avec le dataframe original\n",
    "df_with_dummies = pd.concat([df, gender_dummies, race_dummies, test_prep_dummies], axis=1)\n",
    "\n",
    "# Afficher les premières lignes du dataframe avec les variables dummy\n",
    "df_with_dummies.head()"
   ]
  },
  {
   "cell_type": "markdown",
   "metadata": {},
   "source": [
    "Nous pouvons supprimer les colonnes catégorielles d'origine si nous voulons ne conserver que les variables dummy :"
   ]
  },
  {
   "cell_type": "code",
   "execution_count": null,
   "metadata": {},
   "outputs": [],
   "source": [
    "# Créer une copie du dataframe pour cet exemple\n",
    "df_encoded = df_with_dummies.copy()\n",
    "\n",
    "# Supprimer les colonnes d'origine (conserver une version pour référence)\n",
    "columns_to_drop = ['gender', 'race/ethnicity', 'test_prep_course']\n",
    "df_encoded = df_encoded.drop(columns=columns_to_drop)\n",
    "\n",
    "# Afficher les premières lignes du dataframe encodé\n",
    "df_encoded.head()"
   ]
  },
  {
   "cell_type": "markdown",
   "metadata": {},
   "source": [
    "<a id=\"export-data\"></a>\n",
    "## 9. Exportation des Données Nettoyées\n",
    "\n",
    "Maintenant que nous avons nettoyé et transformé nos données, nous pouvons les exporter pour une analyse ultérieure."
   ]
  },
  {
   "cell_type": "code",
   "execution_count": null,
   "metadata": {},
   "outputs": [],
   "source": [
    "# Exporter le dataframe original avec les fonctionnalités ajoutées\n",
    "df.to_csv('cleaned_students_performance_fr.csv', index=False)\n",
    "\n",
    "# Exporter le dataframe avec les variables dummy\n",
    "df_with_dummies.to_csv('students_performance_with_dummies_fr.csv', index=False)\n",
    "\n",
    "# Exporter le dataframe entièrement encodé\n",
    "df_encoded.to_csv('students_performance_encoded_fr.csv', index=False)\n",
    "\n",
    "print(\"Données exportées avec succès !\")"
   ]
  },
  {
   "cell_type": "markdown",
   "metadata": {},
   "source": [
    "## Résumé\n",
    "\n",
    "Dans ce notebook, nous avons :\n",
    "\n",
    "1. Importé et exploré le jeu de données de performance des étudiants\n",
    "2. Vérifié et traité les valeurs manquantes\n",
    "3. Corrigé les formats de données\n",
    "4. Standardisé les données en créant de nouvelles fonctionnalités\n",
    "5. Normalisé les données numériques en utilisant la mise à l'échelle min-max et la standardisation z-score\n",
    "6. Créé des groupes pour les variables continues\n",
    "7. Généré des variables indicatrices pour les données catégorielles en utilisant l'encodage one-hot\n",
    "8. Exporté les données nettoyées et transformées pour une analyse ultérieure\n",
    "\n",
    "Ces techniques de préparation de données sont essentielles pour préparer les données brutes à l'analyse et à la modélisation."
   ]
  }
 ],
 "metadata": {
  "kernelspec": {
   "display_name": "data_analysis",
   "language": "python",
   "name": "data_analysis"
  },
  "language_info": {
   "codemirror_mode": {
    "name": "ipython",
    "version": 3
   },
   "file_extension": ".py",
   "mimetype": "text/x-python",
   "name": "python",
   "nbconvert_exporter": "python",
   "pygments_lexer": "ipython3",
   "version": "3.12.0"
  }
 },
 "nbformat": 4,
 "nbformat_minor": 2
}
