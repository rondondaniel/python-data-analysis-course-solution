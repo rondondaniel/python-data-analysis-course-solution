{
 "cells": [
  {
   "cell_type": "markdown",
   "id": "bc9986e8-b478-4a14-953a-b9451c89303e",
   "metadata": {},
   "source": [
    "# Data Analysis Jour 01 Partie 02\n",
    "## Introduction\n",
    "Ce notebook est une introduction à l'analyse de données avec Python. Nous allons explorer un jeu de données sur les performances des étudiants.\n",
    "\n",
    "### Prérequis\n",
    "- Python 3.12.0\n",
    "- Bibliothèque pandas pour l'analyse de données\n",
    "\n",
    "### Objectifs\n",
    "- Importer et visualiser les données\n",
    "- Calculer des statistiques descriptives\n",
    "- Analyser les distributions des scores"
   ]
  },
  {
   "cell_type": "markdown",
   "id": "4706cb75",
   "metadata": {},
   "source": [
    "## Installation des dépendances\n",
    "Exécuter cette cellule pour installer la bibliothèque tabulate nécessaire pour l'affichage des données."
   ]
  },
  {
   "cell_type": "code",
   "execution_count": null,
   "id": "d788332c-c9ee-4996-a994-e8edfb15dd1c",
   "metadata": {},
   "outputs": [],
   "source": [
    "!pip install pandas matplotlib"
   ]
  },
  {
   "cell_type": "markdown",
   "id": "dfd3c7dc",
   "metadata": {},
   "source": [
    "### Importation des bibliothèques\n",
    "Exécuter cette cellule pour importer les bibliothèques nécessaires."
   ]
  },
  {
   "cell_type": "code",
   "execution_count": 3,
   "id": "83d94083-3cda-40df-81ee-0c750743519a",
   "metadata": {},
   "outputs": [],
   "source": [
    "import pandas as pd\n",
    "import numpy as np\n",
    "import matplotlib.pyplot as plt"
   ]
  },
  {
   "cell_type": "markdown",
   "id": "1f75a966",
   "metadata": {},
   "source": [
    "## Les données\n",
    "Cette cellule définit le chemin vers le fichier CSV contenant les données des étudiants."
   ]
  },
  {
   "cell_type": "code",
   "execution_count": 4,
   "id": "81920765-be29-4a15-8075-a12aa9845be0",
   "metadata": {},
   "outputs": [],
   "source": [
    "file = \"StudentsPerformance.csv\""
   ]
  },
  {
   "cell_type": "markdown",
   "id": "a1b31f55",
   "metadata": {},
   "source": [
    "### Importation et stockage des données\n",
    "Charger les données dans un DataFrame"
   ]
  },
  {
   "cell_type": "code",
   "execution_count": 5,
   "id": "a50320b5-8b12-4878-93f8-d42048472328",
   "metadata": {},
   "outputs": [],
   "source": [
    "data = pd.read_csv(file)"
   ]
  },
  {
   "cell_type": "markdown",
   "id": "9c55949c",
   "metadata": {},
   "source": [
    "### Affichage des données\n",
    "Exécuter cette cellule pour afficher les 5 premières lignes des données importées."
   ]
  },
  {
   "cell_type": "code",
   "execution_count": null,
   "id": "9edb2ccd-0273-4775-ad03-b2733c5ac91c",
   "metadata": {},
   "outputs": [],
   "source": [
    "data.head(5)"
   ]
  },
  {
   "cell_type": "markdown",
   "id": "c865debc",
   "metadata": {},
   "source": [
    "### Description des données\n",
    "Exécuter cette cellule pour afficher une description des données."
   ]
  },
  {
   "cell_type": "code",
   "execution_count": null,
   "id": "a5de5bef",
   "metadata": {},
   "outputs": [],
   "source": [
    "stats = data.describe()\n",
    "display(stats)"
   ]
  },
  {
   "cell_type": "markdown",
   "id": "0e322875",
   "metadata": {},
   "source": [
    "## Moyenne"
   ]
  },
  {
   "cell_type": "markdown",
   "id": "e7aa7764",
   "metadata": {},
   "source": [
    "### Calcul des moyennes\n",
    "Cette cellule calcule les moyennes des notes pour chaque étudiant."
   ]
  },
  {
   "cell_type": "code",
   "execution_count": null,
   "id": "44b3febe-89c8-4111-bb70-cda57b6f2f87",
   "metadata": {},
   "outputs": [],
   "source": [
    "data['mean_score'] = data[['math_score', 'reading_score', 'writing_score']].mean(axis=1)"
   ]
  },
  {
   "cell_type": "markdown",
   "id": "ddc4e9ae",
   "metadata": {},
   "source": [
    "### Affichage des moyennes\n",
    "Exécuter cette cellule pour afficher les moyennes calculées."
   ]
  },
  {
   "cell_type": "code",
   "execution_count": null,
   "id": "8dc4be9a-d492-44f1-a214-64b3951cea9b",
   "metadata": {},
   "outputs": [],
   "source": [
    "display(data[['math_score', 'reading_score', 'writing_score', 'mean_score']].head())"
   ]
  },
  {
   "cell_type": "markdown",
   "id": "99ec3c52-b7ca-4634-a2fb-96732c0d389f",
   "metadata": {},
   "source": [
    "### Analyse Descriptive"
   ]
  },
  {
   "cell_type": "markdown",
   "id": "12e9abf5-f28c-4e66-aa00-6ae65b968877",
   "metadata": {},
   "source": [
    "Exécuter cette cellule pour afficher une description des données."
   ]
  },
  {
   "cell_type": "code",
   "execution_count": null,
   "id": "4fb6229c-f72c-43f6-928b-efb7e62fe065",
   "metadata": {},
   "outputs": [],
   "source": [
    "stats = data['mean_score'].describe()\n",
    "display(stats)"
   ]
  },
  {
   "cell_type": "markdown",
   "id": "9a38a7f0",
   "metadata": {},
   "source": [
    "## Médiane"
   ]
  },
  {
   "cell_type": "markdown",
   "id": "74ff36f3",
   "metadata": {},
   "source": [
    "### Calculer la médiane"
   ]
  },
  {
   "cell_type": "markdown",
   "id": "2424ddf8-1ec1-4d58-802e-b4aeba0f29e2",
   "metadata": {},
   "source": [
    "Utiliser la méthode de pandas pour calculer la médiane."
   ]
  },
  {
   "cell_type": "code",
   "execution_count": null,
   "id": "35c4bf4b-96d6-4df6-b59d-2b10ae4287bf",
   "metadata": {},
   "outputs": [],
   "source": [
    "median = data['mean_score'].median()\n",
    "print(f\"Médiane: {median}\")"
   ]
  },
  {
   "cell_type": "markdown",
   "id": "3d5704b7",
   "metadata": {},
   "source": [
    "### Calculer des quartiles\n",
    "Utiliser la méthode de pandas pour calculer les quantiles Q1, Q2 et Q3."
   ]
  },
  {
   "cell_type": "code",
   "execution_count": null,
   "id": "1e14cb18-5cfb-4a18-8868-0178614b103e",
   "metadata": {},
   "outputs": [],
   "source": [
    "quantiles = data['mean_score'].quantile([0.25, 0.5, 0.75])\n",
    "print(f\"Quartiles:\\n{quantiles}\")"
   ]
  },
  {
   "cell_type": "markdown",
   "id": "ede02bc1",
   "metadata": {},
   "source": [
    "### Trouver les min et max\n",
    "Comment trouver les valeurs minimales et maximales"
   ]
  },
  {
   "cell_type": "code",
   "execution_count": 19,
   "id": "f1dae6a4-29b4-47d6-8e03-023f4a30104b",
   "metadata": {},
   "outputs": [
    {
     "name": "stdout",
     "output_type": "stream",
     "text": [
      "Minimum: 9.0, Maximum: 100.0\n"
     ]
    }
   ],
   "source": [
    "# Minimum et maximum\n",
    "min_max = data['mean_score'].agg(['min', 'max'])\n",
    "print(f\"Minimum: {min_max['min']}, Maximum: {min_max['max']}\")"
   ]
  },
  {
   "cell_type": "markdown",
   "id": "f81d5afc",
   "metadata": {},
   "source": [
    "### Calcul de la variance\n",
    "Dans cette cellule calcule la variance des moyennes."
   ]
  },
  {
   "cell_type": "code",
   "execution_count": 21,
   "id": "9c6d23df-7fc7-4d8c-9de9-7f46ff5831c3",
   "metadata": {},
   "outputs": [],
   "source": [
    "# Variance\n",
    "variance = data['mean_score'].var()"
   ]
  },
  {
   "cell_type": "markdown",
   "id": "ec80afb3",
   "metadata": {},
   "source": [
    "### Calcul de l'écart-type\n",
    "Dans cette cellule calcule l'écart-type à partir de la variance."
   ]
  },
  {
   "cell_type": "code",
   "execution_count": 22,
   "id": "c5aabd4c-2b88-4ffe-b805-31d7c19244dd",
   "metadata": {},
   "outputs": [],
   "source": [
    "std_dev = data['mean_score'].std()"
   ]
  },
  {
   "cell_type": "markdown",
   "id": "bdb4e2af-9429-4d76-afb7-5609c6c06695",
   "metadata": {},
   "source": [
    "### Afficher la Variance et L'écart-type"
   ]
  },
  {
   "cell_type": "markdown",
   "id": "064e757a-5d69-408f-abc4-64e8aa6445a7",
   "metadata": {},
   "source": [
    "Dans cette cellule affiche la variance et l'écart-type trouver plus haut"
   ]
  },
  {
   "cell_type": "code",
   "execution_count": 23,
   "id": "0e8e9d36-eb49-4a3c-b8a5-cd7f9d5f4b3d",
   "metadata": {},
   "outputs": [
    {
     "name": "stdout",
     "output_type": "stream",
     "text": [
      "Variance: 203.271344233122, Écart-type: 14.257325984669144\n"
     ]
    }
   ],
   "source": [
    "print(f\"Variance: {variance}, Écart-type: {std_dev}\")"
   ]
  }
 ],
 "metadata": {
  "kernelspec": {
   "display_name": "data_analysis",
   "language": "python",
   "name": "data_analysis"
  },
  "language_info": {
   "codemirror_mode": {
    "name": "ipython",
    "version": 3
   },
   "file_extension": ".py",
   "mimetype": "text/x-python",
   "name": "python",
   "nbconvert_exporter": "python",
   "pygments_lexer": "ipython3",
   "version": "3.12.0"
  }
 },
 "nbformat": 4,
 "nbformat_minor": 5
}
